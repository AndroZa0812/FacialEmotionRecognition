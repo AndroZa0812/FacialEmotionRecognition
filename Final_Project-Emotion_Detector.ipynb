{
 "cells": [
  {
   "cell_type": "code",
   "execution_count": 1,
   "id": "881a4d5a",
   "metadata": {},
   "outputs": [],
   "source": [
    "from keras.preprocessing.image import ImageDataGenerator\n",
    "from keras.layers import Dense,Dropout,Activation,Conv2D,MaxPooling2D,BatchNormalization,Flatten\n",
    "from keras.models import Sequential\n",
    "from keras.optimizers import RMSprop\n",
    "from keras.callbacks import EarlyStopping, ReduceLROnPlateau, ModelCheckpoint, TensorBoard\n",
    "from keras.models import load_model\n",
    "import cv2\n",
    "from PIL import Image\n",
    "import numpy as np\n",
    "import pandas as pd\n",
    "import os\n",
    "from keras.utils import to_categorical\n",
    "import seaborn as sns\n",
    "import keras_tuner\n",
    "import scipy\n",
    "# from keras.preprocessing.image import ImageDataGenerator\n",
    "from keras_tuner import RandomSearch, Tuner"
   ]
  },
  {
   "cell_type": "code",
   "execution_count": 2,
   "id": "fb21bb0f",
   "metadata": {},
   "outputs": [],
   "source": [
    "RANDOM_STATE = 42\n",
    "ROWS = 48\n",
    "COLUMNS = 48\n",
    "BATCH_SIZE = 64\n",
    "EPOCHS = 30\n",
    "CLASSES = 7"
   ]
  },
  {
   "cell_type": "markdown",
   "id": "05980766",
   "metadata": {},
   "source": [
    "### Load Data"
   ]
  },
  {
   "cell_type": "code",
   "execution_count": 3,
   "id": "21a4d70f",
   "metadata": {},
   "outputs": [
    {
     "name": "stdout",
     "output_type": "stream",
     "text": [
      "test\n",
      "angry\n",
      "disgust\n",
      "fear\n",
      "happy\n",
      "neutral\n",
      "sad\n",
      "surprise\n",
      "train\n",
      "angry\n",
      "disgust\n",
      "fear\n",
      "happy\n",
      "neutral\n",
      "sad\n",
      "surprise\n"
     ]
    },
    {
     "data": {
      "text/html": [
       "<div>\n",
       "<style scoped>\n",
       "    .dataframe tbody tr th:only-of-type {\n",
       "        vertical-align: middle;\n",
       "    }\n",
       "\n",
       "    .dataframe tbody tr th {\n",
       "        vertical-align: top;\n",
       "    }\n",
       "\n",
       "    .dataframe thead th {\n",
       "        text-align: right;\n",
       "    }\n",
       "</style>\n",
       "<table border=\"1\" class=\"dataframe\">\n",
       "  <thead>\n",
       "    <tr style=\"text-align: right;\">\n",
       "      <th></th>\n",
       "      <th>images</th>\n",
       "      <th>labels</th>\n",
       "      <th>purpose</th>\n",
       "      <th>image_path</th>\n",
       "    </tr>\n",
       "  </thead>\n",
       "  <tbody>\n",
       "    <tr>\n",
       "      <th>0</th>\n",
       "      <td>[[[46], [34], [26], [23], [12], [32], [35], [2...</td>\n",
       "      <td>angry</td>\n",
       "      <td>S</td>\n",
       "      <td>./FinalProjData/fer2013/test/angry/PrivateTest...</td>\n",
       "    </tr>\n",
       "    <tr>\n",
       "      <th>1</th>\n",
       "      <td>[[[55], [33], [54], [32], [26], [21], [50], [2...</td>\n",
       "      <td>angry</td>\n",
       "      <td>S</td>\n",
       "      <td>./FinalProjData/fer2013/test/angry/PrivateTest...</td>\n",
       "    </tr>\n",
       "    <tr>\n",
       "      <th>2</th>\n",
       "      <td>[[[123], [123], [126], [131], [124], [69], [10...</td>\n",
       "      <td>angry</td>\n",
       "      <td>S</td>\n",
       "      <td>./FinalProjData/fer2013/test/angry/PrivateTest...</td>\n",
       "    </tr>\n",
       "    <tr>\n",
       "      <th>3</th>\n",
       "      <td>[[[255], [255], [255], [255], [255], [255], [2...</td>\n",
       "      <td>angry</td>\n",
       "      <td>S</td>\n",
       "      <td>./FinalProjData/fer2013/test/angry/PrivateTest...</td>\n",
       "    </tr>\n",
       "    <tr>\n",
       "      <th>4</th>\n",
       "      <td>[[[127], [121], [124], [137], [123], [118], [1...</td>\n",
       "      <td>angry</td>\n",
       "      <td>S</td>\n",
       "      <td>./FinalProjData/fer2013/test/angry/PrivateTest...</td>\n",
       "    </tr>\n",
       "  </tbody>\n",
       "</table>\n",
       "</div>"
      ],
      "text/plain": [
       "                                              images labels purpose  \\\n",
       "0  [[[46], [34], [26], [23], [12], [32], [35], [2...  angry       S   \n",
       "1  [[[55], [33], [54], [32], [26], [21], [50], [2...  angry       S   \n",
       "2  [[[123], [123], [126], [131], [124], [69], [10...  angry       S   \n",
       "3  [[[255], [255], [255], [255], [255], [255], [2...  angry       S   \n",
       "4  [[[127], [121], [124], [137], [123], [118], [1...  angry       S   \n",
       "\n",
       "                                          image_path  \n",
       "0  ./FinalProjData/fer2013/test/angry/PrivateTest...  \n",
       "1  ./FinalProjData/fer2013/test/angry/PrivateTest...  \n",
       "2  ./FinalProjData/fer2013/test/angry/PrivateTest...  \n",
       "3  ./FinalProjData/fer2013/test/angry/PrivateTest...  \n",
       "4  ./FinalProjData/fer2013/test/angry/PrivateTest...  "
      ]
     },
     "execution_count": 3,
     "metadata": {},
     "output_type": "execute_result"
    }
   ],
   "source": [
    "files_path = \"./FinalProjData\"\n",
    "\n",
    "int2emotions = {0:'angry',1:'fear',2:'happy',3:'neutral',4:'sad',5:'surprise',6:'disgust'}\n",
    "emotions2int = {'angry':0,'fear':1,'happy':2,'neutral':3,'sad':4,'surprise':5,'disgust':6}\n",
    "\n",
    "dic = {'images':[], 'labels':[], 'purpose':[], 'image_path':[]}\n",
    "\n",
    "for d in os.listdir(f'{files_path}/fer2013/'):\n",
    "    print(d)\n",
    "    for emotion in os.listdir(f'{files_path}/fer2013/{d}'):\n",
    "        print(emotion)\n",
    "        for i in os.listdir(f'{files_path}/fer2013/{d}/{emotion}'):\n",
    "            img = cv2.imread(f'{files_path}/fer2013/{d}/{emotion}/{i}',0)\n",
    "            img = img.reshape(48,48,1)\n",
    "\n",
    "            dic['images'].append(img)\n",
    "            dic['labels'].append(emotion)\n",
    "            dic['image_path'].append(f'{files_path}/fer2013/{d}/{emotion}/{i}')\n",
    "\n",
    "            if d=='train':\n",
    "                dic['purpose'].append('T')\n",
    "            else:\n",
    "                dic['purpose'].append('S')\n",
    "\n",
    "df = pd.DataFrame(dic)\n",
    "df.head()"
   ]
  },
  {
   "cell_type": "code",
   "execution_count": 4,
   "id": "abbe6be3",
   "metadata": {},
   "outputs": [],
   "source": [
    "train_data = df[df['purpose']=='T'].sample(frac=0.8, random_state=RANDOM_STATE)\n",
    "val_data = df[df['purpose']=='T'].drop(train_data.index, axis=0)\n",
    "test_data = df[df['purpose']=='S']"
   ]
  },
  {
   "cell_type": "code",
   "execution_count": 5,
   "id": "f8f3f248",
   "metadata": {},
   "outputs": [
    {
     "data": {
      "text/plain": [
       "22967"
      ]
     },
     "execution_count": 5,
     "metadata": {},
     "output_type": "execute_result"
    }
   ],
   "source": [
    "len(train_data)"
   ]
  },
  {
   "cell_type": "code",
   "execution_count": 6,
   "id": "4459c412-f61a-476a-bae9-3c0dead0d5bf",
   "metadata": {},
   "outputs": [
    {
     "data": {
      "text/plain": [
       "labels\n",
       "happy       5813\n",
       "neutral     3965\n",
       "sad         3834\n",
       "fear        3284\n",
       "angry       3218\n",
       "surprise    2490\n",
       "disgust      363\n",
       "Name: count, dtype: int64"
      ]
     },
     "execution_count": 6,
     "metadata": {},
     "output_type": "execute_result"
    }
   ],
   "source": [
    "train_data['labels'].value_counts()"
   ]
  },
  {
   "cell_type": "code",
   "execution_count": 7,
   "id": "8b10d509-e151-465c-a29d-2f75ad87f49a",
   "metadata": {},
   "outputs": [
    {
     "data": {
      "text/plain": [
       "labels\n",
       "happy       1402\n",
       "neutral     1000\n",
       "sad          996\n",
       "fear         813\n",
       "angry        777\n",
       "surprise     681\n",
       "disgust       73\n",
       "Name: count, dtype: int64"
      ]
     },
     "execution_count": 7,
     "metadata": {},
     "output_type": "execute_result"
    }
   ],
   "source": [
    "val_data['labels'].value_counts()"
   ]
  },
  {
   "cell_type": "code",
   "execution_count": 136,
   "id": "4f13efd8",
   "metadata": {},
   "outputs": [
    {
     "data": {
      "text/plain": [
       "labels\n",
       "happy       1774\n",
       "sad         1247\n",
       "neutral     1233\n",
       "fear        1024\n",
       "angry        958\n",
       "surprise     831\n",
       "disgust      111\n",
       "Name: count, dtype: int64"
      ]
     },
     "execution_count": 136,
     "metadata": {},
     "output_type": "execute_result"
    }
   ],
   "source": [
    "test_data['labels'].value_counts()"
   ]
  },
  {
   "cell_type": "code",
   "execution_count": 8,
   "id": "a229368d-8e12-4adc-8f18-3ab84fb67875",
   "metadata": {},
   "outputs": [
    {
     "data": {
      "text/html": [
       "<div>\n",
       "<style scoped>\n",
       "    .dataframe tbody tr th:only-of-type {\n",
       "        vertical-align: middle;\n",
       "    }\n",
       "\n",
       "    .dataframe tbody tr th {\n",
       "        vertical-align: top;\n",
       "    }\n",
       "\n",
       "    .dataframe thead th {\n",
       "        text-align: right;\n",
       "    }\n",
       "</style>\n",
       "<table border=\"1\" class=\"dataframe\">\n",
       "  <thead>\n",
       "    <tr style=\"text-align: right;\">\n",
       "      <th></th>\n",
       "      <th>images</th>\n",
       "      <th>labels</th>\n",
       "      <th>purpose</th>\n",
       "      <th>image_path</th>\n",
       "    </tr>\n",
       "  </thead>\n",
       "  <tbody>\n",
       "    <tr>\n",
       "      <th>0</th>\n",
       "      <td>[[[5], [0], [2], [2], [4], [13], [15], [8], [1...</td>\n",
       "      <td>neutral</td>\n",
       "      <td>T</td>\n",
       "      <td>./FinalProjData/fer2013/train/neutral/Training...</td>\n",
       "    </tr>\n",
       "    <tr>\n",
       "      <th>1</th>\n",
       "      <td>[[[165], [168], [168], [167], [166], [136], [8...</td>\n",
       "      <td>happy</td>\n",
       "      <td>T</td>\n",
       "      <td>./FinalProjData/fer2013/train/happy/Training_4...</td>\n",
       "    </tr>\n",
       "    <tr>\n",
       "      <th>2</th>\n",
       "      <td>[[[217], [194], [204], [207], [203], [206], [1...</td>\n",
       "      <td>surprise</td>\n",
       "      <td>T</td>\n",
       "      <td>./FinalProjData/fer2013/train/surprise/Trainin...</td>\n",
       "    </tr>\n",
       "    <tr>\n",
       "      <th>3</th>\n",
       "      <td>[[[99], [108], [105], [93], [101], [100], [99]...</td>\n",
       "      <td>neutral</td>\n",
       "      <td>T</td>\n",
       "      <td>./FinalProjData/fer2013/train/neutral/Training...</td>\n",
       "    </tr>\n",
       "    <tr>\n",
       "      <th>4</th>\n",
       "      <td>[[[240], [171], [162], [186], [213], [222], [2...</td>\n",
       "      <td>happy</td>\n",
       "      <td>T</td>\n",
       "      <td>./FinalProjData/fer2013/train/happy/Training_2...</td>\n",
       "    </tr>\n",
       "  </tbody>\n",
       "</table>\n",
       "</div>"
      ],
      "text/plain": [
       "                                              images    labels purpose  \\\n",
       "0  [[[5], [0], [2], [2], [4], [13], [15], [8], [1...   neutral       T   \n",
       "1  [[[165], [168], [168], [167], [166], [136], [8...     happy       T   \n",
       "2  [[[217], [194], [204], [207], [203], [206], [1...  surprise       T   \n",
       "3  [[[99], [108], [105], [93], [101], [100], [99]...   neutral       T   \n",
       "4  [[[240], [171], [162], [186], [213], [222], [2...     happy       T   \n",
       "\n",
       "                                          image_path  \n",
       "0  ./FinalProjData/fer2013/train/neutral/Training...  \n",
       "1  ./FinalProjData/fer2013/train/happy/Training_4...  \n",
       "2  ./FinalProjData/fer2013/train/surprise/Trainin...  \n",
       "3  ./FinalProjData/fer2013/train/neutral/Training...  \n",
       "4  ./FinalProjData/fer2013/train/happy/Training_2...  "
      ]
     },
     "execution_count": 8,
     "metadata": {},
     "output_type": "execute_result"
    }
   ],
   "source": [
    "happy_df = train_data[train_data['labels']=='happy']\n",
    "neutral_df = train_data[train_data['labels']=='neutral']\n",
    "sad_df = train_data[train_data['labels']=='sad']\n",
    "fear_df = train_data[train_data['labels']=='fear']\n",
    "angry_df = train_data[train_data['labels']=='angry']\n",
    "surprise_df = train_data[train_data['labels']=='surprise']\n",
    "disgust_df = train_data[train_data['labels']=='disgust']\n",
    "\n",
    "train_data = pd.concat([happy_df,neutral_df,sad_df,fear_df,angry_df,surprise_df, disgust_df])\n",
    "\n",
    "train_data = train_data.sample(frac=1)\n",
    "train_data.reset_index(inplace=True)\n",
    "train_data.drop('index',inplace=True,axis=1)\n",
    "\n",
    "train_data.head()"
   ]
  },
  {
   "cell_type": "code",
   "execution_count": 9,
   "id": "ff4cbb3c-fcbc-4224-b7a5-fce126d15964",
   "metadata": {},
   "outputs": [
    {
     "data": {
      "text/plain": [
       "labels\n",
       "happy       5813\n",
       "neutral     3965\n",
       "sad         3834\n",
       "fear        3284\n",
       "angry       3218\n",
       "surprise    2490\n",
       "disgust      363\n",
       "Name: count, dtype: int64"
      ]
     },
     "execution_count": 9,
     "metadata": {},
     "output_type": "execute_result"
    }
   ],
   "source": [
    "train_data['labels'].value_counts()"
   ]
  },
  {
   "cell_type": "code",
   "execution_count": 10,
   "id": "ec6321a4-5a2a-46b2-b6ad-5704b20f9613",
   "metadata": {},
   "outputs": [
    {
     "data": {
      "text/plain": [
       "<Axes: xlabel='count', ylabel='labels'>"
      ]
     },
     "execution_count": 10,
     "metadata": {},
     "output_type": "execute_result"
    },
    {
     "data": {
      "image/png": "[encoded data removed]",
      "text/plain": [
       "<Figure size 640x480 with 1 Axes>"
      ]
     },
     "metadata": {},
     "output_type": "display_data"
    }
   ],
   "source": [
    "sns.countplot(train_data['labels'])"
   ]
  },
  {
   "cell_type": "code",
   "execution_count": 11,
   "id": "7dac195c-72f8-4029-a6b8-adf161a518bf",
   "metadata": {},
   "outputs": [
    {
     "data": {
      "text/plain": [
       "labels\n",
       "happy       1402\n",
       "neutral     1000\n",
       "sad          996\n",
       "fear         813\n",
       "angry        777\n",
       "surprise     681\n",
       "disgust       73\n",
       "Name: count, dtype: int64"
      ]
     },
     "execution_count": 11,
     "metadata": {},
     "output_type": "execute_result"
    }
   ],
   "source": [
    "val_data['labels'].value_counts()"
   ]
  },
  {
   "cell_type": "code",
   "execution_count": 12,
   "id": "535adf5f-e2a6-4d62-9381-14272a58b4ff",
   "metadata": {},
   "outputs": [],
   "source": [
    "# Convert dataframe to numpy array\n",
    "train_labels = list(train_data['labels'].replace(emotions2int))\n",
    "train_labels = to_categorical(train_labels)\n",
    "\n",
    "val_labels = list(val_data['labels'].replace(emotions2int))\n",
    "val_labels = to_categorical(val_labels)\n",
    "\n",
    "# train_data = train_data['images']\n",
    "# val_data = val_data['images']"
   ]
  },
  {
   "cell_type": "code",
   "execution_count": 13,
   "id": "afc4c760-99de-448f-85eb-4410b472f76b",
   "metadata": {},
   "outputs": [
    {
     "data": {
      "text/plain": [
       "(22967, 4)"
      ]
     },
     "execution_count": 13,
     "metadata": {},
     "output_type": "execute_result"
    }
   ],
   "source": [
    "train_data.shape"
   ]
  },
  {
   "cell_type": "code",
   "execution_count": 14,
   "id": "a0e85ce1-2cb1-4585-a6e8-c8462ec377f0",
   "metadata": {},
   "outputs": [
    {
     "data": {
      "text/plain": [
       "(5742, 4)"
      ]
     },
     "execution_count": 14,
     "metadata": {},
     "output_type": "execute_result"
    }
   ],
   "source": [
    "val_data.shape"
   ]
  },
  {
   "cell_type": "code",
   "execution_count": 83,
   "id": "8d63c744-c17d-4630-897a-d7f066bc6297",
   "metadata": {},
   "outputs": [],
   "source": [
    "from keras.regularizers import L1L2\n",
    "from keras.metrics import AUC, Accuracy, MeanSquaredError\n",
    "\n",
    "def create_model_name(dropout: bool, activation: str, optimizer, regularizer, loss):\n",
    "    if regularizer and isinstance(regularizer, L1L2):\n",
    "        regularizer='l1l2'\n",
    "\n",
    "    optimizer = optimizer._name\n",
    "\n",
    "    loss = loss.name\n",
    "\n",
    "    model_name = f\"dropout_{dropout}_activation_{activation}_optimizer_{optimizer}_regularizer_{regularizer}_loss_{loss}\"\n",
    "    return model_name\n",
    "\n",
    "\n",
    "def parameterized_build_model(dropout: bool, activation: str, optimizer, regularizer, loss, input_shape: tuple,\n",
    "                              classes: int):\n",
    "    model = Sequential()\n",
    "\n",
    "    # First Block\n",
    "    model.add(Conv2D(64,(3,3),activation=activation,input_shape=input_shape,kernel_initializer='he_normal',\n",
    "                     padding='same', kernel_regularizer=regularizer, bias_regularizer=regularizer))\n",
    "    model.add(BatchNormalization())\n",
    "    model.add(Conv2D(64,(3,3),activation=activation,input_shape=input_shape,kernel_initializer='he_normal',\n",
    "                     padding='same', kernel_regularizer=regularizer, bias_regularizer=regularizer))\n",
    "    model.add(BatchNormalization())\n",
    "    model.add(MaxPooling2D(pool_size=(2,2)))\n",
    "    if dropout:\n",
    "        model.add(Dropout(0.2))\n",
    "\n",
    "    # Second Block\n",
    "    model.add(Conv2D(128,(3,3),activation=activation,kernel_initializer='he_normal',padding='same',\n",
    "                     kernel_regularizer=regularizer, bias_regularizer=regularizer))\n",
    "    model.add(BatchNormalization())\n",
    "    model.add(Conv2D(128,(3,3),activation=activation,kernel_initializer='he_normal',padding='same',\n",
    "                     kernel_regularizer=regularizer, bias_regularizer=regularizer))\n",
    "    model.add(BatchNormalization())\n",
    "    model.add(MaxPooling2D(pool_size=(2,2)))\n",
    "    if dropout:\n",
    "        model.add(Dropout(0.2))\n",
    "\n",
    "    # Third Block\n",
    "    model.add(Conv2D(256,(3,3),activation=activation,kernel_initializer='he_normal',padding='same',\n",
    "                     kernel_regularizer=regularizer, bias_regularizer=regularizer))\n",
    "    model.add(BatchNormalization())\n",
    "    model.add(Conv2D(256,(3,3),activation=activation,kernel_initializer='he_normal',padding='same',\n",
    "                     kernel_regularizer=regularizer, bias_regularizer=regularizer))\n",
    "    model.add(BatchNormalization())\n",
    "    model.add(MaxPooling2D(pool_size=(2,2)))\n",
    "    if dropout:\n",
    "        model.add(Dropout(0.2))\n",
    "\n",
    "    # Fourth Block\n",
    "    model.add(Conv2D(512,(3,3),activation=activation,kernel_initializer='he_normal',padding='same',\n",
    "        kernel_regularizer=regularizer, bias_regularizer=regularizer))\n",
    "    model.add(BatchNormalization())\n",
    "    model.add(Conv2D(512,(3,3),activation=activation,kernel_initializer='he_normal',padding='same',\n",
    "        kernel_regularizer=regularizer, bias_regularizer=regularizer))\n",
    "    model.add(BatchNormalization())\n",
    "    model.add(MaxPooling2D(pool_size=(2,2)))\n",
    "    if dropout:\n",
    "        model.add(Dropout(0.2))\n",
    "\n",
    "    # Fifth Block\n",
    "    model.add(Flatten())\n",
    "    model.add(Dense(256,activation=activation,kernel_initializer='he_normal', kernel_regularizer=regularizer,\n",
    "                     bias_regularizer=regularizer))\n",
    "    model.add(BatchNormalization())\n",
    "    if dropout:\n",
    "        model.add(Dropout(0.5))\n",
    "\n",
    "    # Sixth Block\n",
    "    model.add(Dense(128,activation=activation,kernel_initializer='he_normal', kernel_regularizer=regularizer,\n",
    "                     bias_regularizer=regularizer))\n",
    "    model.add(BatchNormalization())\n",
    "    if dropout:\n",
    "        model.add(Dropout(0.5))\n",
    "\n",
    "    # Seventh Block\n",
    "    model.add(Dense(64,activation=activation,kernel_initializer='he_normal', kernel_regularizer=regularizer,\n",
    "                     bias_regularizer=regularizer))\n",
    "    model.add(BatchNormalization())\n",
    "    if dropout:\n",
    "        model.add(Dropout(0.5))\n",
    "\n",
    "    # Eighth Block\n",
    "    model.add(Dense(classes, activation='softmax',kernel_initializer='he_normal', kernel_regularizer=regularizer,\n",
    "                    bias_regularizer=regularizer))\n",
    "\n",
    "    model.compile(metrics=['accuracy', AUC(), 'mse'],\n",
    "                optimizer=optimizer,\n",
    "                loss=loss)\n",
    "\n",
    "    return model\n",
    "\n",
    "\n",
    "#print(model.summary())"
   ]
  },
  {
   "cell_type": "markdown",
   "id": "57616c89",
   "metadata": {},
   "source": [
    "Method for selecting the best parameters"
   ]
  },
  {
   "cell_type": "code",
   "execution_count": 128,
   "id": "88810c9a",
   "metadata": {},
   "outputs": [],
   "source": [
    "from keras.optimizers import Adam, SGD\n",
    "from keras.regularizers import l1_l2\n",
    "from extra import CategoricalFocalCrossentropy\n",
    "from keras.losses import CategoricalCrossentropy\n",
    "import tensorflow_addons as tfa\n",
    "\n",
    "opt_map = {\n",
    "    'adam': Adam(learning_rate=0.001),\n",
    "    'rmsprop': RMSprop(learning_rate=0.001),\n",
    "    'sgd': SGD(learning_rate=0.001)\n",
    "}\n",
    "\n",
    "loss_map = {\n",
    "    'cc': CategoricalCrossentropy(),\n",
    "    'cfc': CategoricalFocalCrossentropy()\n",
    "}\n",
    "\n",
    "activation_map = {\n",
    "    \"elu\": \"elu\",\n",
    "    \"relu\": \"relu\",\n",
    "    \"tanh\": \"tanh\",\n",
    "    \"mish\": tfa.activations.mish\n",
    "}\n",
    "\n",
    "def build_model(hp: keras_tuner.HyperParameters):\n",
    "    dropout = hp.Boolean('dropout')\n",
    "    activation = hp.Choice(name='activation',values=[\"elu\", \"relu\", \"tanh\", \"mish\"])\n",
    "    regularizer = hp.Choice(name='regularizer',values=['None', 'l1', 'l2'])\n",
    "    optimizer = hp.Choice(name='optimizer', values=['adam', 'rmsprop', 'sgd'])\n",
    "    loss = hp.Choice(name='loss',values=['cc'])\n",
    "\n",
    "    # A workaround for not using regularizer\n",
    "    if regularizer == 'None':\n",
    "        regularizer = None\n",
    "\n",
    "    model = parameterized_build_model(activation=activation_map[activation],\n",
    "                                      dropout=dropout,\n",
    "                                      optimizer=opt_map[optimizer],\n",
    "                                      regularizer=regularizer,\n",
    "                                      loss=loss_map[loss],\n",
    "                                      input_shape=(ROWS, COLUMNS, 1),\n",
    "                                      classes=CLASSES)\n",
    "    return model"
   ]
  },
  {
   "cell_type": "code",
   "execution_count": 115,
   "id": "329e2381",
   "metadata": {},
   "outputs": [],
   "source": [
    "# ModelCheckpoint(f'{files_path}/model/7_class_emotion_detector_{model_name}.h5',\n",
    "#                      save_best_only=True,\n",
    "#                      mode='min',\n",
    "#                      monitor='val_loss',\n",
    "#                      verbose=1)\n",
    "from typing import Union\n",
    "from keras import Model\n",
    "\n",
    "def run_model(model: Union[Tuner, Model], train_data: pd.DataFrame, val_data: pd.DataFrame, epochs: int,\n",
    "              batch_size: int):\n",
    "    callbacks = [\n",
    "        EarlyStopping(patience=10, verbose=1, min_delta=0, monitor='val_loss', restore_best_weights=False),\n",
    "        ReduceLROnPlateau(monitor='val_loss', factor=0.2, patience=5, verbose=1, min_delta=0.0001),\n",
    "        TensorBoard(log_dir=\"logs/tb_logs\")\n",
    "    ]\n",
    "    # Data Augmentation setup for training data\n",
    "    train_datagen = ImageDataGenerator(\n",
    "        rotation_range=20,\n",
    "        width_shift_range=0.2,\n",
    "        height_shift_range=0.2,\n",
    "        shear_range=0.2,\n",
    "        zoom_range=0.2,\n",
    "        horizontal_flip=True,\n",
    "        fill_mode='nearest')\n",
    "\n",
    "    # Data generator for validation data (No augmentation)\n",
    "    val_datagen = ImageDataGenerator()\n",
    "\n",
    "    # Create generators to read images from dataframe\n",
    "    train_generator = train_datagen.flow_from_dataframe(\n",
    "        dataframe=train_data,\n",
    "        directory=None,  # Directory is None since paths are absolute\n",
    "        x_col='image_path',\n",
    "        y_col='labels',\n",
    "        target_size=(48, 48),\n",
    "        color_mode='grayscale',\n",
    "        class_mode='categorical',\n",
    "        batch_size=batch_size,\n",
    "        shuffle=True)\n",
    "\n",
    "    validation_generator = val_datagen.flow_from_dataframe(\n",
    "        dataframe=val_data,\n",
    "        directory=None,\n",
    "        x_col='image_path',\n",
    "        y_col='labels',\n",
    "        target_size=(48, 48),\n",
    "        color_mode='grayscale',\n",
    "        class_mode='categorical',\n",
    "        batch_size=batch_size,\n",
    "        shuffle=False)\n",
    "\n",
    "    train_samples = len(train_data)\n",
    "    validation_samples = len(val_data)\n",
    "\n",
    "    # Training the model using generators\n",
    "    if isinstance(model, Model):\n",
    "        history = model.fit(\n",
    "            np.array(list(train_data['images'])),\n",
    "            train_labels,\n",
    "            epochs=EPOCHS,\n",
    "            steps_per_epoch=train_samples//BATCH_SIZE,\n",
    "            validation_data=(np.array(list(val_data['images'])),val_labels),\n",
    "            validation_steps=validation_samples//BATCH_SIZE,\n",
    "            callbacks=callbacks\n",
    "        )\n",
    "        return history\n",
    "    else:\n",
    "        model.search(\n",
    "            train_generator,\n",
    "            steps_per_epoch=train_samples // batch_size,\n",
    "            epochs=epochs,\n",
    "            validation_data=validation_generator,\n",
    "            validation_steps=validation_samples // batch_size,\n",
    "            callbacks=callbacks)\n",
    "        return model"
   ]
  },
  {
   "cell_type": "code",
   "execution_count": 116,
   "id": "a661399f",
   "metadata": {},
   "outputs": [],
   "source": [
    "def calc_model_test_accuracy(model, test_data: pd.DataFrame):\n",
    "    test_predictions = model.predict(np.array(list(test_data['images'])))\n",
    "    labeled_predictions = [int2emotions[i] for i in np.argmax(test_predictions, axis=-1)]\n",
    "    prediction_accuracy = sum(test_data['labels'] == labeled_predictions) / len(test_data)\n",
    "    print(f'Prediction Accuracy: {prediction_accuracy}')\n",
    "    return prediction_accuracy"
   ]
  },
  {
   "cell_type": "markdown",
   "id": "0691ba51",
   "metadata": {},
   "source": [
    "### Ground Truth Model"
   ]
  },
  {
   "cell_type": "code",
   "execution_count": 117,
   "id": "8229299d",
   "metadata": {},
   "outputs": [
    {
     "name": "stdout",
     "output_type": "stream",
     "text": [
      "Found 22967 validated image filenames belonging to 7 classes.\n",
      "Found 5742 validated image filenames belonging to 7 classes.\n",
      "Epoch 1/30\n",
      "358/358 [==============================] - 26s 65ms/step - loss: 2.3190 - accuracy: 0.1847 - auc_1: 0.5623 - mse: 0.1369 - val_loss: 2.3453 - val_accuracy: 0.2041 - val_auc_1: 0.5952 - val_mse: 0.1380 - lr: 0.0010\n",
      "Epoch 2/30\n",
      "358/358 [==============================] - 24s 68ms/step - loss: 1.8202 - accuracy: 0.2621 - auc_1: 0.6725 - mse: 0.1179 - val_loss: 1.6484 - val_accuracy: 0.3400 - val_auc_1: 0.7409 - val_mse: 0.1091 - lr: 0.0010\n",
      "Epoch 3/30\n",
      "358/358 [==============================] - 25s 71ms/step - loss: 1.5320 - accuracy: 0.3969 - auc_1: 0.7837 - mse: 0.1013 - val_loss: 1.4512 - val_accuracy: 0.4404 - val_auc_1: 0.8104 - val_mse: 0.0968 - lr: 0.0010\n",
      "Epoch 4/30\n",
      "358/358 [==============================] - 27s 75ms/step - loss: 1.3553 - accuracy: 0.4811 - auc_1: 0.8388 - mse: 0.0911 - val_loss: 1.2897 - val_accuracy: 0.5064 - val_auc_1: 0.8559 - val_mse: 0.0877 - lr: 0.0010\n",
      "Epoch 5/30\n",
      "358/358 [==============================] - 24s 68ms/step - loss: 1.2655 - accuracy: 0.5187 - auc_1: 0.8616 - mse: 0.0860 - val_loss: 1.1993 - val_accuracy: 0.5404 - val_auc_1: 0.8764 - val_mse: 0.0829 - lr: 0.0010\n",
      "Epoch 6/30\n",
      "358/358 [==============================] - 25s 69ms/step - loss: 1.1878 - accuracy: 0.5572 - auc_1: 0.8795 - mse: 0.0813 - val_loss: 1.1760 - val_accuracy: 0.5603 - val_auc_1: 0.8813 - val_mse: 0.0807 - lr: 0.0010\n",
      "Epoch 7/30\n",
      "358/358 [==============================] - 27s 77ms/step - loss: 1.1161 - accuracy: 0.5876 - auc_1: 0.8946 - mse: 0.0768 - val_loss: 1.1420 - val_accuracy: 0.5735 - val_auc_1: 0.8894 - val_mse: 0.0789 - lr: 0.0010\n",
      "Epoch 8/30\n",
      "358/358 [==============================] - 27s 76ms/step - loss: 1.0546 - accuracy: 0.6119 - auc_1: 0.9062 - mse: 0.0731 - val_loss: 1.1227 - val_accuracy: 0.5859 - val_auc_1: 0.8939 - val_mse: 0.0776 - lr: 0.0010\n",
      "Epoch 9/30\n",
      "358/358 [==============================] - 26s 72ms/step - loss: 0.9969 - accuracy: 0.6421 - auc_1: 0.9163 - mse: 0.0690 - val_loss: 1.1093 - val_accuracy: 0.5956 - val_auc_1: 0.8977 - val_mse: 0.0763 - lr: 0.0010\n",
      "Epoch 10/30\n",
      "358/358 [==============================] - 26s 74ms/step - loss: 0.9303 - accuracy: 0.6667 - auc_1: 0.9273 - mse: 0.0647 - val_loss: 1.1538 - val_accuracy: 0.5801 - val_auc_1: 0.8919 - val_mse: 0.0792 - lr: 0.0010\n",
      "Epoch 11/30\n",
      "358/358 [==============================] - 25s 69ms/step - loss: 0.8655 - accuracy: 0.6914 - auc_1: 0.9369 - mse: 0.0605 - val_loss: 1.2861 - val_accuracy: 0.5409 - val_auc_1: 0.8733 - val_mse: 0.0877 - lr: 0.0010\n",
      "Epoch 12/30\n",
      "358/358 [==============================] - 27s 75ms/step - loss: 0.7893 - accuracy: 0.7268 - auc_1: 0.9472 - mse: 0.0550 - val_loss: 1.1715 - val_accuracy: 0.5965 - val_auc_1: 0.8981 - val_mse: 0.0796 - lr: 0.0010\n",
      "Epoch 13/30\n",
      "358/358 [==============================] - 25s 69ms/step - loss: 0.7238 - accuracy: 0.7482 - auc_1: 0.9553 - mse: 0.0508 - val_loss: 1.2408 - val_accuracy: 0.5890 - val_auc_1: 0.8880 - val_mse: 0.0820 - lr: 0.0010\n",
      "Epoch 14/30\n",
      "358/358 [==============================] - ETA: 0s - loss: 0.6399 - accuracy: 0.7842 - auc_1: 0.9643 - mse: 0.0445\n",
      "Epoch 14: ReduceLROnPlateau reducing learning rate to 0.00020000000949949026.\n",
      "358/358 [==============================] - 25s 70ms/step - loss: 0.6399 - accuracy: 0.7842 - auc_1: 0.9643 - mse: 0.0445 - val_loss: 1.2526 - val_accuracy: 0.5996 - val_auc_1: 0.8967 - val_mse: 0.0825 - lr: 0.0010\n",
      "Epoch 15/30\n",
      "358/358 [==============================] - 25s 69ms/step - loss: 0.4738 - accuracy: 0.8459 - auc_1: 0.9797 - mse: 0.0328 - val_loss: 1.2588 - val_accuracy: 0.6135 - val_auc_1: 0.8997 - val_mse: 0.0813 - lr: 2.0000e-04\n",
      "Epoch 16/30\n",
      "358/358 [==============================] - 25s 69ms/step - loss: 0.3847 - accuracy: 0.8777 - auc_1: 0.9860 - mse: 0.0265 - val_loss: 1.3429 - val_accuracy: 0.6188 - val_auc_1: 0.8954 - val_mse: 0.0833 - lr: 2.0000e-04\n",
      "Epoch 17/30\n",
      "358/358 [==============================] - 24s 67ms/step - loss: 0.3375 - accuracy: 0.8943 - auc_1: 0.9888 - mse: 0.0232 - val_loss: 1.4276 - val_accuracy: 0.6149 - val_auc_1: 0.8900 - val_mse: 0.0856 - lr: 2.0000e-04\n",
      "Epoch 18/30\n",
      "358/358 [==============================] - 24s 67ms/step - loss: 0.2990 - accuracy: 0.9073 - auc_1: 0.9903 - mse: 0.0203 - val_loss: 1.4756 - val_accuracy: 0.6130 - val_auc_1: 0.8877 - val_mse: 0.0869 - lr: 2.0000e-04\n",
      "Epoch 19/30\n",
      "358/358 [==============================] - ETA: 0s - loss: 0.2733 - accuracy: 0.9143 - auc_1: 0.9919 - mse: 0.0187\n",
      "Epoch 19: ReduceLROnPlateau reducing learning rate to 4.0000001899898055e-05.\n",
      "358/358 [==============================] - 27s 74ms/step - loss: 0.2733 - accuracy: 0.9143 - auc_1: 0.9919 - mse: 0.0187 - val_loss: 1.5529 - val_accuracy: 0.6132 - val_auc_1: 0.8836 - val_mse: 0.0885 - lr: 2.0000e-04\n",
      "Epoch 19: early stopping\n"
     ]
    }
   ],
   "source": [
    "model = parameterized_build_model(activation=\"elu\",\n",
    "                                    dropout=True,\n",
    "                                    optimizer=\"rmsprop\",\n",
    "                                    regularizer=None,\n",
    "                                    loss=loss_map['cc'],\n",
    "                                    input_shape=(ROWS, COLUMNS, 1),\n",
    "                                    classes=CLASSES)\n",
    "history = run_model(model, train_data, val_data, epochs=EPOCHS, batch_size=BATCH_SIZE)"
   ]
  },
  {
   "cell_type": "code",
   "execution_count": 120,
   "id": "949c8d90",
   "metadata": {},
   "outputs": [
    {
     "data": {
      "image/png": "[encoded data removed]",
      "text/plain": [
       "<Figure size 1000x600 with 8 Axes>"
      ]
     },
     "metadata": {},
     "output_type": "display_data"
    }
   ],
   "source": [
    "import matplotlib.pyplot as plt\n",
    "from math import ceil\n",
    "# Grid of all metrics and their validations\n",
    "\n",
    "metrics = history.model.metrics_names\n",
    "\n",
    "fig, axs = plt.subplots(ceil(len(metrics) / 2), 2, figsize=(16, 12), gridspec_kw={'hspace': 0.5, 'wspace': 0.2})\n",
    "\n",
    "# Confusion matrix for each classifier\n",
    "for i, metric in enumerate(metrics):\n",
    "    # plot confusion matrix\n",
    "    df = pd.DataFrame({k:v for k,v in history.history.items() if k in [metric, f'val_{metric}']})\n",
    "    df[metric].plot(secondary_y=True, figsize=(10,6), ax=axs[i // 2, i % 2]);\n",
    "    disp = df[f'val_{metric}'].plot(secondary_y=True, ax=axs[i // 2, i % 2]);\n",
    "    disp.legend(loc='lower right')\n",
    "\n",
    "    # add the model name as a title\n",
    "    axs[i // 2, i % 2].set_title(f\"{metric} vs. val_{metric}\")\n",
    "\n",
    "    # Increase the vertical margins\n",
    "    axs[i // 2, i % 2].set_ymargin(200)"
   ]
  },
  {
   "cell_type": "code",
   "execution_count": 141,
   "id": "19a03c97",
   "metadata": {},
   "outputs": [],
   "source": [
    "model.save('FinalProjData/model/7_class_emotion_detector_with_transformations.h5')"
   ]
  },
  {
   "cell_type": "code",
   "execution_count": 121,
   "id": "b2c15b29",
   "metadata": {},
   "outputs": [
    {
     "name": "stdout",
     "output_type": "stream",
     "text": [
      "225/225 [==============================] - 3s 12ms/step\n",
      "Prediction Accuracy: 0.6365282808581778\n"
     ]
    },
    {
     "data": {
      "text/plain": [
       "0.6365282808581778"
      ]
     },
     "execution_count": 121,
     "metadata": {},
     "output_type": "execute_result"
    }
   ],
   "source": [
    "calc_model_test_accuracy(model, test_data=test_data)"
   ]
  },
  {
   "cell_type": "markdown",
   "id": "3e136478",
   "metadata": {},
   "source": [
    "### Search for better HyperParameters"
   ]
  },
  {
   "cell_type": "code",
   "execution_count": 131,
   "id": "b0366417",
   "metadata": {},
   "outputs": [
    {
     "name": "stdout",
     "output_type": "stream",
     "text": [
      "Search space summary\n",
      "Default search space size: 5\n",
      "dropout (Boolean)\n",
      "{'default': False, 'conditions': []}\n",
      "activation (Choice)\n",
      "{'default': 'elu', 'conditions': [], 'values': ['elu', 'relu', 'tanh', 'mish'], 'ordered': False}\n",
      "regularizer (Choice)\n",
      "{'default': 'None', 'conditions': [], 'values': ['None', 'l1', 'l2'], 'ordered': False}\n",
      "optimizer (Choice)\n",
      "{'default': 'adam', 'conditions': [], 'values': ['adam', 'rmsprop', 'sgd'], 'ordered': False}\n",
      "loss (Choice)\n",
      "{'default': 'cc', 'conditions': [], 'values': ['cc'], 'ordered': False}\n"
     ]
    }
   ],
   "source": [
    "from keras_tuner import RandomSearch\n",
    "\n",
    "tuner = RandomSearch(\n",
    "    build_model,\n",
    "    objective='val_accuracy',\n",
    "    max_trials=15,\n",
    "    directory=\"logs/tb\"\n",
    ")\n",
    "\n",
    "tuner.search_space_summary()"
   ]
  },
  {
   "cell_type": "code",
   "execution_count": 132,
   "id": "51b55113",
   "metadata": {},
   "outputs": [
    {
     "name": "stdout",
     "output_type": "stream",
     "text": [
      "Trial 15 Complete [00h 13m 17s]\n",
      "val_accuracy: 0.5064957737922668\n",
      "\n",
      "Best val_accuracy So Far: 0.6481741666793823\n",
      "Total elapsed time: 02h 40m 27s\n"
     ]
    },
    {
     "data": {
      "text/plain": [
       "<keras_tuner.src.tuners.randomsearch.RandomSearch at 0x2334cd3e9b0>"
      ]
     },
     "execution_count": 132,
     "metadata": {},
     "output_type": "execute_result"
    }
   ],
   "source": [
    "tuner = run_model(tuner, train_data, val_data, epochs=EPOCHS, batch_size=BATCH_SIZE)"
   ]
  },
  {
   "cell_type": "code",
   "execution_count": null,
   "id": "04bd624b",
   "metadata": {},
   "outputs": [],
   "source": []
  },
  {
   "cell_type": "code",
   "execution_count": 133,
   "id": "71c72047",
   "metadata": {},
   "outputs": [
    {
     "name": "stdout",
     "output_type": "stream",
     "text": [
      "Results summary\n",
      "Results in logs/tb\\untitled_project\n",
      "Showing 10 best trials\n",
      "Objective(name=\"val_accuracy\", direction=\"max\")\n",
      "\n",
      "Trial 00 summary\n",
      "Hyperparameters:\n",
      "dropout: False\n",
      "activation: elu\n",
      "regularizer: None\n",
      "optimizer: rmsprop\n",
      "loss: cc\n",
      "Score: 0.6481741666793823\n",
      "\n",
      "Trial 05 summary\n",
      "Hyperparameters:\n",
      "dropout: False\n",
      "activation: mish\n",
      "regularizer: l2\n",
      "optimizer: rmsprop\n",
      "loss: cc\n",
      "Score: 0.6358848214149475\n",
      "\n",
      "Trial 12 summary\n",
      "Hyperparameters:\n",
      "dropout: True\n",
      "activation: elu\n",
      "regularizer: None\n",
      "optimizer: adam\n",
      "loss: cc\n",
      "Score: 0.6204354166984558\n",
      "\n",
      "Trial 08 summary\n",
      "Hyperparameters:\n",
      "dropout: False\n",
      "activation: elu\n",
      "regularizer: l2\n",
      "optimizer: rmsprop\n",
      "loss: cc\n",
      "Score: 0.5872542262077332\n",
      "\n",
      "Trial 14 summary\n",
      "Hyperparameters:\n",
      "dropout: True\n",
      "activation: mish\n",
      "regularizer: l2\n",
      "optimizer: rmsprop\n",
      "loss: cc\n",
      "Score: 0.5064957737922668\n",
      "\n",
      "Trial 07 summary\n",
      "Hyperparameters:\n",
      "dropout: False\n",
      "activation: relu\n",
      "regularizer: l2\n",
      "optimizer: adam\n",
      "loss: cc\n",
      "Score: 0.48016151785850525\n",
      "\n",
      "Trial 11 summary\n",
      "Hyperparameters:\n",
      "dropout: False\n",
      "activation: elu\n",
      "regularizer: None\n",
      "optimizer: sgd\n",
      "loss: cc\n",
      "Score: 0.421875\n",
      "\n",
      "Trial 06 summary\n",
      "Hyperparameters:\n",
      "dropout: False\n",
      "activation: mish\n",
      "regularizer: l1\n",
      "optimizer: rmsprop\n",
      "loss: cc\n",
      "Score: 0.4111657440662384\n",
      "\n",
      "Trial 01 summary\n",
      "Hyperparameters:\n",
      "dropout: False\n",
      "activation: tanh\n",
      "regularizer: l1\n",
      "optimizer: sgd\n",
      "loss: cc\n",
      "Score: 0.38167133927345276\n",
      "\n",
      "Trial 09 summary\n",
      "Hyperparameters:\n",
      "dropout: False\n",
      "activation: tanh\n",
      "regularizer: l1\n",
      "optimizer: adam\n",
      "loss: cc\n",
      "Score: 0.3198736011981964\n"
     ]
    }
   ],
   "source": [
    "tuner.results_summary()"
   ]
  },
  {
   "cell_type": "code",
   "execution_count": 134,
   "id": "4d4bddb0",
   "metadata": {},
   "outputs": [
    {
     "name": "stdout",
     "output_type": "stream",
     "text": [
      "{'dropout': False, 'activation': 'elu', 'regularizer': 'None', 'optimizer': 'rmsprop', 'loss': 'cc'}\n"
     ]
    }
   ],
   "source": [
    "best_hyperparameters = tuner.get_best_hyperparameters()[0].values\n",
    "print(best_hyperparameters)\n",
    "best_model = tuner.get_best_models()[0]"
   ]
  },
  {
   "cell_type": "code",
   "execution_count": 135,
   "id": "059827ef",
   "metadata": {},
   "outputs": [
    {
     "name": "stdout",
     "output_type": "stream",
     "text": [
      "225/225 [==============================] - 2s 9ms/step\n",
      "Prediction Accuracy: 0.1409863471719142\n"
     ]
    },
    {
     "data": {
      "text/plain": [
       "0.1409863471719142"
      ]
     },
     "execution_count": 135,
     "metadata": {},
     "output_type": "execute_result"
    }
   ],
   "source": [
    "# test_predictions = best_model.predict(np.array(list(test_data['images'])))\n",
    "# labeled_predictions = [int2emotions[i] for i in np.argmax(test_predictions, axis=-1)]\n",
    "# prediction_accuracy = sum(test_data['labels'] == labeled_predictions) / len(test_data)\n",
    "# print(f'Prediction Accuracy: {prediction_accuracy}')\n",
    "calc_model_test_accuracy(best_model, test_data=test_data)"
   ]
  },
  {
   "cell_type": "code",
   "execution_count": null,
   "id": "2ccdb90f-53fe-4fef-8fb0-7824603ea7ac",
   "metadata": {},
   "outputs": [],
   "source": [
    "import cv2\n",
    "from keras.models import load_model\n",
    "import numpy as np\n",
    "\n",
    "int2emotions = {0:'angry',1:'fear',2:'happy',3:'neutral',4:'sad',5:'surprise',6:'disgust'}\n",
    "model = load_model(f'{files_path}\\model\\\\7_class_emotion_detector_with_transformations.h5')\n",
    "\n",
    "classifier = cv2.CascadeClassifier(f'{files_path}\\Haarcascades\\\\haarcascade_frontalface_default.xml')\n",
    "\n",
    "def detect_face(frame):\n",
    "    faces=classifier.detectMultiScale(frame,1.3,4)\n",
    "    if len(faces) == 0:\n",
    "        return frame\n",
    "    for x,y,w,h in faces:\n",
    "        cv2.rectangle(frame,(x,y),(x+w,y+h),(172,42,251),2)\n",
    "        face = frame[y:y+h,x:x+w]\n",
    "        face = cv2.cvtColor(face,cv2.COLOR_BGR2GRAY)\n",
    "        face = cv2.resize(face,(48,48))\n",
    "        face = face.reshape(1,48,48,1)\n",
    "        cv2.putText(frame,text=int2emotions[np.argmax(model.predict(face))],\n",
    "                    org=(x,y-15),fontFace=cv2.FONT_HERSHEY_SIMPLEX,fontScale=1,color=(106,40,243),thickness=2)\n",
    "    return frame"
   ]
  },
  {
   "cell_type": "code",
   "execution_count": null,
   "id": "3a6330dc",
   "metadata": {},
   "outputs": [],
   "source": [
    "cap = cv2.VideoCapture(0)\n",
    "\n",
    "while 1:\n",
    "    ret,frame= cap.read()\n",
    "    if ret==True:\n",
    "        cv2.imshow('emotion_detector',detect_face(frame))\n",
    "        if cv2.waitKey(1)==27:\n",
    "            break\n",
    "cap.release()\n",
    "cv2.destroyAllWindows()"
   ]
  },
  {
   "cell_type": "code",
   "execution_count": null,
   "id": "0ca19945-bb91-4a32-9a7a-f01f807a9743",
   "metadata": {},
   "outputs": [],
   "source": []
  }
 ],
 "metadata": {
  "kernelspec": {
   "display_name": "Python 3 (ipykernel)",
   "language": "python",
   "name": "python3"
  },
  "language_info": {
   "codemirror_mode": {
    "name": "ipython",
    "version": 3
   },
   "file_extension": ".py",
   "mimetype": "text/x-python",
   "name": "python",
   "nbconvert_exporter": "python",
   "pygments_lexer": "ipython3",
   "version": "3.10.13"
  }
 },
 "nbformat": 4,
 "nbformat_minor": 5
}
