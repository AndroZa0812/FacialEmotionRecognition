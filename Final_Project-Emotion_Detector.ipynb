{
 "cells": [
  {
   "cell_type": "code",
   "execution_count": 1,
   "id": "881a4d5a",
   "metadata": {},
   "outputs": [],
   "source": [
    "from keras.preprocessing.image import ImageDataGenerator\n",
    "from keras.layers import Dense,Dropout,Activation,Conv2D,MaxPooling2D,BatchNormalization,Flatten\n",
    "from keras.models import Sequential\n",
    "from keras.optimizers import RMSprop\n",
    "from keras.callbacks import EarlyStopping, ReduceLROnPlateau, ModelCheckpoint, TensorBoard\n",
    "from keras.models import load_model\n",
    "import cv2\n",
    "from PIL import Image\n",
    "import numpy as np\n",
    "import pandas as pd\n",
    "import os\n",
    "from keras.utils import to_categorical\n",
    "import seaborn as sns\n",
    "import keras_tuner\n",
    "import scipy\n",
    "# from keras.preprocessing.image import ImageDataGenerator\n",
    "from keras_tuner import RandomSearch, Tuner"
   ]
  },
  {
   "cell_type": "code",
   "execution_count": 2,
   "id": "fb21bb0f",
   "metadata": {},
   "outputs": [],
   "source": [
    "RANDOM_STATE = 42\n",
    "ROWS = 48\n",
    "COLUMNS = 48\n",
    "BATCH_SIZE = 64\n",
    "EPOCHS = 30\n",
    "CLASSES = 7"
   ]
  },
  {
   "cell_type": "markdown",
   "id": "05980766",
   "metadata": {},
   "source": [
    "### Load Data"
   ]
  },
  {
   "cell_type": "code",
   "execution_count": 3,
   "id": "21a4d70f",
   "metadata": {},
   "outputs": [
    {
     "name": "stdout",
     "output_type": "stream",
     "text": [
      "test\n",
      "angry\n",
      "disgust\n",
      "fear\n",
      "happy\n",
      "neutral\n",
      "sad\n",
      "surprise\n",
      "train\n",
      "angry\n",
      "disgust\n",
      "fear\n",
      "happy\n",
      "neutral\n",
      "sad\n",
      "surprise\n"
     ]
    },
    {
     "data": {
      "text/html": [
       "<div>\n",
       "<style scoped>\n",
       "    .dataframe tbody tr th:only-of-type {\n",
       "        vertical-align: middle;\n",
       "    }\n",
       "\n",
       "    .dataframe tbody tr th {\n",
       "        vertical-align: top;\n",
       "    }\n",
       "\n",
       "    .dataframe thead th {\n",
       "        text-align: right;\n",
       "    }\n",
       "</style>\n",
       "<table border=\"1\" class=\"dataframe\">\n",
       "  <thead>\n",
       "    <tr style=\"text-align: right;\">\n",
       "      <th></th>\n",
       "      <th>images</th>\n",
       "      <th>labels</th>\n",
       "      <th>purpose</th>\n",
       "      <th>image_path</th>\n",
       "    </tr>\n",
       "  </thead>\n",
       "  <tbody>\n",
       "    <tr>\n",
       "      <th>0</th>\n",
       "      <td>[[[46], [34], [26], [23], [12], [32], [35], [2...</td>\n",
       "      <td>angry</td>\n",
       "      <td>S</td>\n",
       "      <td>./FinalProjData/fer2013/test/angry/PrivateTest...</td>\n",
       "    </tr>\n",
       "    <tr>\n",
       "      <th>1</th>\n",
       "      <td>[[[55], [33], [54], [32], [26], [21], [50], [2...</td>\n",
       "      <td>angry</td>\n",
       "      <td>S</td>\n",
       "      <td>./FinalProjData/fer2013/test/angry/PrivateTest...</td>\n",
       "    </tr>\n",
       "    <tr>\n",
       "      <th>2</th>\n",
       "      <td>[[[123], [123], [126], [131], [124], [69], [10...</td>\n",
       "      <td>angry</td>\n",
       "      <td>S</td>\n",
       "      <td>./FinalProjData/fer2013/test/angry/PrivateTest...</td>\n",
       "    </tr>\n",
       "    <tr>\n",
       "      <th>3</th>\n",
       "      <td>[[[255], [255], [255], [255], [255], [255], [2...</td>\n",
       "      <td>angry</td>\n",
       "      <td>S</td>\n",
       "      <td>./FinalProjData/fer2013/test/angry/PrivateTest...</td>\n",
       "    </tr>\n",
       "    <tr>\n",
       "      <th>4</th>\n",
       "      <td>[[[127], [121], [124], [137], [123], [118], [1...</td>\n",
       "      <td>angry</td>\n",
       "      <td>S</td>\n",
       "      <td>./FinalProjData/fer2013/test/angry/PrivateTest...</td>\n",
       "    </tr>\n",
       "  </tbody>\n",
       "</table>\n",
       "</div>"
      ],
      "text/plain": [
       "                                              images labels purpose  \\\n",
       "0  [[[46], [34], [26], [23], [12], [32], [35], [2...  angry       S   \n",
       "1  [[[55], [33], [54], [32], [26], [21], [50], [2...  angry       S   \n",
       "2  [[[123], [123], [126], [131], [124], [69], [10...  angry       S   \n",
       "3  [[[255], [255], [255], [255], [255], [255], [2...  angry       S   \n",
       "4  [[[127], [121], [124], [137], [123], [118], [1...  angry       S   \n",
       "\n",
       "                                          image_path  \n",
       "0  ./FinalProjData/fer2013/test/angry/PrivateTest...  \n",
       "1  ./FinalProjData/fer2013/test/angry/PrivateTest...  \n",
       "2  ./FinalProjData/fer2013/test/angry/PrivateTest...  \n",
       "3  ./FinalProjData/fer2013/test/angry/PrivateTest...  \n",
       "4  ./FinalProjData/fer2013/test/angry/PrivateTest...  "
      ]
     },
     "execution_count": 3,
     "metadata": {},
     "output_type": "execute_result"
    }
   ],
   "source": [
    "files_path = \"./FinalProjData\"\n",
    "\n",
    "int2emotions = {0:'angry',1:'fear',2:'happy',3:'neutral',4:'sad',5:'surprise',6:'disgust'}\n",
    "emotions2int = {'angry':0,'fear':1,'happy':2,'neutral':3,'sad':4,'surprise':5,'disgust':6}\n",
    "\n",
    "dic = {'images':[], 'labels':[], 'purpose':[], 'image_path':[]}\n",
    "\n",
    "for d in os.listdir(f'{files_path}/fer2013/'):\n",
    "    print(d)\n",
    "    for emotion in os.listdir(f'{files_path}/fer2013/{d}'):\n",
    "        print(emotion)\n",
    "        for i in os.listdir(f'{files_path}/fer2013/{d}/{emotion}'):\n",
    "            img = cv2.imread(f'{files_path}/fer2013/{d}/{emotion}/{i}',0)\n",
    "            img = img.reshape(48,48,1)\n",
    "\n",
    "            dic['images'].append(img)\n",
    "            dic['labels'].append(emotion)\n",
    "            dic['image_path'].append(f'{files_path}/fer2013/{d}/{emotion}/{i}')\n",
    "\n",
    "            if d=='train':\n",
    "                dic['purpose'].append('T')\n",
    "            else:\n",
    "                dic['purpose'].append('S')\n",
    "\n",
    "df = pd.DataFrame(dic)\n",
    "df.head()"
   ]
  },
  {
   "cell_type": "code",
   "execution_count": 4,
   "id": "abbe6be3",
   "metadata": {},
   "outputs": [],
   "source": [
    "train_data = df[df['purpose']=='T'].sample(frac=0.8, random_state=RANDOM_STATE)\n",
    "val_data = df[df['purpose']=='T'].drop(train_data.index, axis=0)\n",
    "test_data = df[df['purpose']=='S']"
   ]
  },
  {
   "cell_type": "code",
   "execution_count": 5,
   "id": "f8f3f248",
   "metadata": {},
   "outputs": [
    {
     "data": {
      "text/plain": [
       "22967"
      ]
     },
     "execution_count": 5,
     "metadata": {},
     "output_type": "execute_result"
    }
   ],
   "source": [
    "len(train_data)"
   ]
  },
  {
   "cell_type": "code",
   "execution_count": 6,
   "id": "4459c412-f61a-476a-bae9-3c0dead0d5bf",
   "metadata": {},
   "outputs": [
    {
     "data": {
      "text/plain": [
       "labels\n",
       "happy       5813\n",
       "neutral     3965\n",
       "sad         3834\n",
       "fear        3284\n",
       "angry       3218\n",
       "surprise    2490\n",
       "disgust      363\n",
       "Name: count, dtype: int64"
      ]
     },
     "execution_count": 6,
     "metadata": {},
     "output_type": "execute_result"
    }
   ],
   "source": [
    "train_data['labels'].value_counts()"
   ]
  },
  {
   "cell_type": "code",
   "execution_count": 7,
   "id": "8b10d509-e151-465c-a29d-2f75ad87f49a",
   "metadata": {},
   "outputs": [
    {
     "data": {
      "text/plain": [
       "labels\n",
       "happy       1402\n",
       "neutral     1000\n",
       "sad          996\n",
       "fear         813\n",
       "angry        777\n",
       "surprise     681\n",
       "disgust       73\n",
       "Name: count, dtype: int64"
      ]
     },
     "execution_count": 7,
     "metadata": {},
     "output_type": "execute_result"
    }
   ],
   "source": [
    "val_data['labels'].value_counts()"
   ]
  },
  {
   "cell_type": "code",
   "execution_count": 8,
   "id": "a229368d-8e12-4adc-8f18-3ab84fb67875",
   "metadata": {},
   "outputs": [
    {
     "data": {
      "text/html": [
       "<div>\n",
       "<style scoped>\n",
       "    .dataframe tbody tr th:only-of-type {\n",
       "        vertical-align: middle;\n",
       "    }\n",
       "\n",
       "    .dataframe tbody tr th {\n",
       "        vertical-align: top;\n",
       "    }\n",
       "\n",
       "    .dataframe thead th {\n",
       "        text-align: right;\n",
       "    }\n",
       "</style>\n",
       "<table border=\"1\" class=\"dataframe\">\n",
       "  <thead>\n",
       "    <tr style=\"text-align: right;\">\n",
       "      <th></th>\n",
       "      <th>images</th>\n",
       "      <th>labels</th>\n",
       "      <th>purpose</th>\n",
       "      <th>image_path</th>\n",
       "    </tr>\n",
       "  </thead>\n",
       "  <tbody>\n",
       "    <tr>\n",
       "      <th>0</th>\n",
       "      <td>[[[5], [0], [2], [2], [4], [13], [15], [8], [1...</td>\n",
       "      <td>neutral</td>\n",
       "      <td>T</td>\n",
       "      <td>./FinalProjData/fer2013/train/neutral/Training...</td>\n",
       "    </tr>\n",
       "    <tr>\n",
       "      <th>1</th>\n",
       "      <td>[[[165], [168], [168], [167], [166], [136], [8...</td>\n",
       "      <td>happy</td>\n",
       "      <td>T</td>\n",
       "      <td>./FinalProjData/fer2013/train/happy/Training_4...</td>\n",
       "    </tr>\n",
       "    <tr>\n",
       "      <th>2</th>\n",
       "      <td>[[[217], [194], [204], [207], [203], [206], [1...</td>\n",
       "      <td>surprise</td>\n",
       "      <td>T</td>\n",
       "      <td>./FinalProjData/fer2013/train/surprise/Trainin...</td>\n",
       "    </tr>\n",
       "    <tr>\n",
       "      <th>3</th>\n",
       "      <td>[[[99], [108], [105], [93], [101], [100], [99]...</td>\n",
       "      <td>neutral</td>\n",
       "      <td>T</td>\n",
       "      <td>./FinalProjData/fer2013/train/neutral/Training...</td>\n",
       "    </tr>\n",
       "    <tr>\n",
       "      <th>4</th>\n",
       "      <td>[[[240], [171], [162], [186], [213], [222], [2...</td>\n",
       "      <td>happy</td>\n",
       "      <td>T</td>\n",
       "      <td>./FinalProjData/fer2013/train/happy/Training_2...</td>\n",
       "    </tr>\n",
       "  </tbody>\n",
       "</table>\n",
       "</div>"
      ],
      "text/plain": [
       "                                              images    labels purpose  \\\n",
       "0  [[[5], [0], [2], [2], [4], [13], [15], [8], [1...   neutral       T   \n",
       "1  [[[165], [168], [168], [167], [166], [136], [8...     happy       T   \n",
       "2  [[[217], [194], [204], [207], [203], [206], [1...  surprise       T   \n",
       "3  [[[99], [108], [105], [93], [101], [100], [99]...   neutral       T   \n",
       "4  [[[240], [171], [162], [186], [213], [222], [2...     happy       T   \n",
       "\n",
       "                                          image_path  \n",
       "0  ./FinalProjData/fer2013/train/neutral/Training...  \n",
       "1  ./FinalProjData/fer2013/train/happy/Training_4...  \n",
       "2  ./FinalProjData/fer2013/train/surprise/Trainin...  \n",
       "3  ./FinalProjData/fer2013/train/neutral/Training...  \n",
       "4  ./FinalProjData/fer2013/train/happy/Training_2...  "
      ]
     },
     "execution_count": 8,
     "metadata": {},
     "output_type": "execute_result"
    }
   ],
   "source": [
    "happy_df = train_data[train_data['labels']=='happy']\n",
    "neutral_df = train_data[train_data['labels']=='neutral']\n",
    "sad_df = train_data[train_data['labels']=='sad']\n",
    "fear_df = train_data[train_data['labels']=='fear']\n",
    "angry_df = train_data[train_data['labels']=='angry']\n",
    "surprise_df = train_data[train_data['labels']=='surprise']\n",
    "disgust_df = train_data[train_data['labels']=='disgust']\n",
    "\n",
    "train_data = pd.concat([happy_df,neutral_df,sad_df,fear_df,angry_df,surprise_df, disgust_df])\n",
    "\n",
    "train_data = train_data.sample(frac=1)\n",
    "train_data.reset_index(inplace=True)\n",
    "train_data.drop('index',inplace=True,axis=1)\n",
    "\n",
    "train_data.head()"
   ]
  },
  {
   "cell_type": "code",
   "execution_count": 9,
   "id": "ff4cbb3c-fcbc-4224-b7a5-fce126d15964",
   "metadata": {},
   "outputs": [
    {
     "data": {
      "text/plain": [
       "labels\n",
       "happy       5813\n",
       "neutral     3965\n",
       "sad         3834\n",
       "fear        3284\n",
       "angry       3218\n",
       "surprise    2490\n",
       "disgust      363\n",
       "Name: count, dtype: int64"
      ]
     },
     "execution_count": 9,
     "metadata": {},
     "output_type": "execute_result"
    }
   ],
   "source": [
    "train_data['labels'].value_counts()"
   ]
  },
  {
   "cell_type": "code",
   "execution_count": 10,
   "id": "ec6321a4-5a2a-46b2-b6ad-5704b20f9613",
   "metadata": {},
   "outputs": [
    {
     "data": {
      "text/plain": [
       "<Axes: xlabel='count', ylabel='labels'>"
      ]
     },
     "execution_count": 10,
     "metadata": {},
     "output_type": "execute_result"
    },
    {
     "data": {
      "image/png": "[encoded data removed]",
      "text/plain": [
       "<Figure size 640x480 with 1 Axes>"
      ]
     },
     "metadata": {},
     "output_type": "display_data"
    }
   ],
   "source": [
    "sns.countplot(train_data['labels'])"
   ]
  },
  {
   "cell_type": "code",
   "execution_count": 11,
   "id": "7dac195c-72f8-4029-a6b8-adf161a518bf",
   "metadata": {},
   "outputs": [
    {
     "data": {
      "text/plain": [
       "labels\n",
       "happy       1402\n",
       "neutral     1000\n",
       "sad          996\n",
       "fear         813\n",
       "angry        777\n",
       "surprise     681\n",
       "disgust       73\n",
       "Name: count, dtype: int64"
      ]
     },
     "execution_count": 11,
     "metadata": {},
     "output_type": "execute_result"
    }
   ],
   "source": [
    "val_data['labels'].value_counts()"
   ]
  },
  {
   "cell_type": "code",
   "execution_count": 12,
   "id": "535adf5f-e2a6-4d62-9381-14272a58b4ff",
   "metadata": {},
   "outputs": [],
   "source": [
    "# Convert dataframe to numpy array\n",
    "train_labels = list(train_data['labels'].replace(emotions2int))\n",
    "train_labels = to_categorical(train_labels)\n",
    "\n",
    "val_labels = list(val_data['labels'].replace(emotions2int))\n",
    "val_labels = to_categorical(val_labels)\n",
    "\n",
    "# train_data = train_data['images']\n",
    "# val_data = val_data['images']"
   ]
  },
  {
   "cell_type": "code",
   "execution_count": 13,
   "id": "afc4c760-99de-448f-85eb-4410b472f76b",
   "metadata": {},
   "outputs": [
    {
     "data": {
      "text/plain": [
       "(22967, 4)"
      ]
     },
     "execution_count": 13,
     "metadata": {},
     "output_type": "execute_result"
    }
   ],
   "source": [
    "train_data.shape"
   ]
  },
  {
   "cell_type": "code",
   "execution_count": 14,
   "id": "a0e85ce1-2cb1-4585-a6e8-c8462ec377f0",
   "metadata": {},
   "outputs": [
    {
     "data": {
      "text/plain": [
       "(5742, 4)"
      ]
     },
     "execution_count": 14,
     "metadata": {},
     "output_type": "execute_result"
    }
   ],
   "source": [
    "val_data.shape"
   ]
  },
  {
   "cell_type": "code",
   "execution_count": 15,
   "id": "8d63c744-c17d-4630-897a-d7f066bc6297",
   "metadata": {},
   "outputs": [],
   "source": [
    "from keras.regularizers import L1L2\n",
    "\n",
    "def create_model_name(dropout: bool, activation: str, optimizer, regularizer, loss):\n",
    "    if regularizer and isinstance(regularizer, L1L2):\n",
    "        regularizer='l1l2'\n",
    "\n",
    "    optimizer = optimizer._name\n",
    "\n",
    "    loss = loss.name\n",
    "\n",
    "    model_name = f\"dropout_{dropout}_activation_{activation}_optimizer_{optimizer}_regularizer_{regularizer}_loss_{loss}\"\n",
    "    return model_name\n",
    "\n",
    "\n",
    "def parameterized_build_model(dropout: bool, activation: str, optimizer, regularizer, loss, input_shape: tuple,\n",
    "                              classes: int):\n",
    "    model = Sequential()\n",
    "\n",
    "    # First Block\n",
    "    model.add(Conv2D(64,(3,3),activation=activation,input_shape=input_shape,kernel_initializer='he_normal',\n",
    "                     padding='same', kernel_regularizer=regularizer, bias_regularizer=regularizer))\n",
    "    model.add(BatchNormalization())\n",
    "    model.add(Conv2D(64,(3,3),activation=activation,input_shape=input_shape,kernel_initializer='he_normal',\n",
    "                     padding='same', kernel_regularizer=regularizer, bias_regularizer=regularizer))\n",
    "    model.add(BatchNormalization())\n",
    "    model.add(MaxPooling2D(pool_size=(2,2)))\n",
    "    if dropout:\n",
    "        model.add(Dropout(0.2))\n",
    "\n",
    "    # Second Block\n",
    "    model.add(Conv2D(128,(3,3),activation=activation,kernel_initializer='he_normal',padding='same',\n",
    "                     kernel_regularizer=regularizer, bias_regularizer=regularizer))\n",
    "    model.add(BatchNormalization())\n",
    "    model.add(Conv2D(128,(3,3),activation=activation,kernel_initializer='he_normal',padding='same',\n",
    "                     kernel_regularizer=regularizer, bias_regularizer=regularizer))\n",
    "    model.add(BatchNormalization())\n",
    "    model.add(MaxPooling2D(pool_size=(2,2)))\n",
    "    if dropout:\n",
    "        model.add(Dropout(0.2))\n",
    "\n",
    "    # Third Block\n",
    "    model.add(Conv2D(256,(3,3),activation=activation,kernel_initializer='he_normal',padding='same',\n",
    "                     kernel_regularizer=regularizer, bias_regularizer=regularizer))\n",
    "    model.add(BatchNormalization())\n",
    "    model.add(Conv2D(256,(3,3),activation=activation,kernel_initializer='he_normal',padding='same',\n",
    "                     kernel_regularizer=regularizer, bias_regularizer=regularizer))\n",
    "    model.add(BatchNormalization())\n",
    "    model.add(MaxPooling2D(pool_size=(2,2)))\n",
    "    if dropout:\n",
    "        model.add(Dropout(0.2))\n",
    "\n",
    "    # Fourth Block\n",
    "    model.add(Conv2D(512,(3,3),activation=activation,kernel_initializer='he_normal',padding='same',\n",
    "        kernel_regularizer=regularizer, bias_regularizer=regularizer))\n",
    "    model.add(BatchNormalization())\n",
    "    model.add(Conv2D(512,(3,3),activation=activation,kernel_initializer='he_normal',padding='same',\n",
    "        kernel_regularizer=regularizer, bias_regularizer=regularizer))\n",
    "    model.add(BatchNormalization())\n",
    "    model.add(MaxPooling2D(pool_size=(2,2)))\n",
    "    if dropout:\n",
    "        model.add(Dropout(0.2))\n",
    "\n",
    "    # Fifth Block\n",
    "    model.add(Flatten())\n",
    "    model.add(Dense(256,activation=activation,kernel_initializer='he_normal', kernel_regularizer=regularizer,\n",
    "                     bias_regularizer=regularizer))\n",
    "    model.add(BatchNormalization())\n",
    "    if dropout:\n",
    "        model.add(Dropout(0.5))\n",
    "\n",
    "    # Sixth Block\n",
    "    model.add(Dense(128,activation=activation,kernel_initializer='he_normal', kernel_regularizer=regularizer,\n",
    "                     bias_regularizer=regularizer))\n",
    "    model.add(BatchNormalization())\n",
    "    if dropout:\n",
    "        model.add(Dropout(0.5))\n",
    "\n",
    "    # Seventh Block\n",
    "    model.add(Dense(64,activation=activation,kernel_initializer='he_normal', kernel_regularizer=regularizer,\n",
    "                     bias_regularizer=regularizer))\n",
    "    model.add(BatchNormalization())\n",
    "    if dropout:\n",
    "        model.add(Dropout(0.5))\n",
    "\n",
    "    # Eighth Block\n",
    "    model.add(Dense(classes, activation='softmax',kernel_initializer='he_normal', kernel_regularizer=regularizer,\n",
    "                    bias_regularizer=regularizer))\n",
    "\n",
    "    model.compile(metrics=['accuracy'],\n",
    "                optimizer=optimizer,\n",
    "                loss=loss)\n",
    "\n",
    "    return model\n",
    "\n",
    "\n",
    "#print(model.summary())"
   ]
  },
  {
   "cell_type": "markdown",
   "id": "57616c89",
   "metadata": {},
   "source": [
    "Method for selecting the best parameters"
   ]
  },
  {
   "cell_type": "code",
   "execution_count": 23,
   "id": "88810c9a",
   "metadata": {},
   "outputs": [],
   "source": [
    "from keras.optimizers import Adam, SGD\n",
    "from keras.regularizers import l1_l2\n",
    "from extra import CategoricalFocalCrossentropy\n",
    "from keras.losses import CategoricalCrossentropy\n",
    "\n",
    "opt_map = {\n",
    "    'adam': Adam(learning_rate=0.001),\n",
    "    'rmsprop': RMSprop(learning_rate=0.001),\n",
    "    'sgd': SGD(learning_rate=0.001)\n",
    "}\n",
    "\n",
    "loss_map = {\n",
    "    'cc': CategoricalCrossentropy(),\n",
    "    'cfc': CategoricalFocalCrossentropy()\n",
    "}\n",
    "\n",
    "def build_model(hp: keras_tuner.HyperParameters):\n",
    "    dropout = hp.Boolean('dropout')\n",
    "    activation = hp.Choice(name='activation',values=[\"elu\", \"relu\", \"tanh\", 'mish'])\n",
    "    regularizer = hp.Choice(name='regularizer',values=['None', 'l1', 'l2'])\n",
    "    optimizer = hp.Choice(name='optimizer', values=['adam', 'rmsprop', 'sgd'])\n",
    "    loss = hp.Choice(name='loss',values=['cc','cfc'])\n",
    "\n",
    "    # A workaround for not using regularizer\n",
    "    if regularizer == 'None':\n",
    "        regularizer = None\n",
    "\n",
    "    model = parameterized_build_model(activation=activation,dropout=dropout,optimizer=opt_map[optimizer],\n",
    "                                      regularizer=regularizer, loss=loss_map[loss],\n",
    "                                      input_shape=(ROWS, COLUMNS, 1), classes=CLASSES)\n",
    "    return model"
   ]
  },
  {
   "cell_type": "code",
   "execution_count": 24,
   "id": "329e2381",
   "metadata": {},
   "outputs": [],
   "source": [
    "# ModelCheckpoint(f'{files_path}/model/7_class_emotion_detector_{model_name}.h5',\n",
    "#                      save_best_only=True,\n",
    "#                      mode='min',\n",
    "#                      monitor='val_loss',\n",
    "#                      verbose=1)\n",
    "\n",
    "def run_model(tuner: Tuner, train_data: pd.DataFrame, val_data: pd.DataFrame, epochs: int,\n",
    "              batch_size: int):\n",
    "    callbacks = [\n",
    "        EarlyStopping(patience=10, verbose=1, min_delta=0, monitor='val_loss', restore_best_weights=True),\n",
    "        ReduceLROnPlateau(monitor='val_loss', factor=0.2, patience=5, verbose=1, min_delta=0.0001),\n",
    "        TensorBoard(log_dir=\"logs/tb_logs\")\n",
    "    ]\n",
    "    # Data Augmentation setup for training data\n",
    "    train_datagen = ImageDataGenerator(\n",
    "        rotation_range=20,\n",
    "        width_shift_range=0.2,\n",
    "        height_shift_range=0.2,\n",
    "        shear_range=0.2,\n",
    "        zoom_range=0.2,\n",
    "        horizontal_flip=True,\n",
    "        fill_mode='nearest')\n",
    "\n",
    "    # Data generator for validation data (No augmentation)\n",
    "    val_datagen = ImageDataGenerator()\n",
    "\n",
    "    # Create generators to read images from dataframe\n",
    "    train_generator = train_datagen.flow_from_dataframe(\n",
    "        dataframe=train_data,\n",
    "        directory=None,  # Directory is None since paths are absolute\n",
    "        x_col='image_path',\n",
    "        y_col='labels',\n",
    "        target_size=(48, 48),\n",
    "        color_mode='grayscale',\n",
    "        class_mode='categorical',\n",
    "        batch_size=batch_size,\n",
    "        shuffle=True)\n",
    "\n",
    "    validation_generator = val_datagen.flow_from_dataframe(\n",
    "        dataframe=val_data,\n",
    "        directory=None,\n",
    "        x_col='image_path',\n",
    "        y_col='labels',\n",
    "        target_size=(48, 48),\n",
    "        color_mode='grayscale',\n",
    "        class_mode='categorical',\n",
    "        batch_size=batch_size,\n",
    "        shuffle=False)\n",
    "\n",
    "    train_samples = len(train_data)\n",
    "    validation_samples = len(val_data)\n",
    "\n",
    "    # Training the model using generators\n",
    "    tuner.search(\n",
    "        train_generator,\n",
    "        steps_per_epoch=train_samples // batch_size,\n",
    "        epochs=epochs,\n",
    "        validation_data=validation_generator,\n",
    "        validation_steps=validation_samples // batch_size,\n",
    "        callbacks=callbacks)\n",
    "    return tuner"
   ]
  },
  {
   "cell_type": "code",
   "execution_count": 25,
   "id": "b0366417",
   "metadata": {},
   "outputs": [
    {
     "name": "stdout",
     "output_type": "stream",
     "text": [
      "Search space summary\n",
      "Default search space size: 5\n",
      "dropout (Boolean)\n",
      "{'default': False, 'conditions': []}\n",
      "activation (Choice)\n",
      "{'default': 'elu', 'conditions': [], 'values': ['elu', 'relu', 'tanh', 'mish'], 'ordered': False}\n",
      "regularizer (Choice)\n",
      "{'default': 'None', 'conditions': [], 'values': ['None', 'l1', 'l2'], 'ordered': False}\n",
      "optimizer (Choice)\n",
      "{'default': 'adam', 'conditions': [], 'values': ['adam', 'rmsprop', 'sgd'], 'ordered': False}\n",
      "loss (Choice)\n",
      "{'default': 'cc', 'conditions': [], 'values': ['cc', 'cfc'], 'ordered': False}\n"
     ]
    }
   ],
   "source": [
    "from keras_tuner import RandomSearch\n",
    "\n",
    "tuner = RandomSearch(\n",
    "    build_model,\n",
    "    objective='val_loss',\n",
    "    max_trials=10,\n",
    "    directory=\"logs/tb\"\n",
    ")\n",
    "\n",
    "tuner.search_space_summary()"
   ]
  },
  {
   "cell_type": "code",
   "execution_count": 26,
   "id": "51b55113",
   "metadata": {},
   "outputs": [
    {
     "name": "stdout",
     "output_type": "stream",
     "text": [
      "Found 22967 validated image filenames belonging to 7 classes.\n",
      "Found 5742 validated image filenames belonging to 7 classes.\n",
      "\n",
      "Search: Running Trial #1\n",
      "\n",
      "Value             |Best Value So Far |Hyperparameter\n",
      "True              |True              |dropout\n",
      "elu               |elu               |activation\n",
      "l2                |l2                |regularizer\n",
      "adam              |adam              |optimizer\n",
      "cfc               |cfc               |loss\n",
      "\n",
      "Epoch 1/30\n",
      "  6/358 [..............................] - ETA: 20s - loss: 47.5704 - accuracy: 0.1641WARNING:tensorflow:Callback method `on_train_batch_end` is slow compared to the batch time (batch time: 0.0307s vs `on_train_batch_end` time: 0.0392s). Check your callbacks.\n",
      "358/358 [==============================] - 25s 63ms/step - loss: 9.4668 - accuracy: 0.1802 - val_loss: 1.1518 - val_accuracy: 0.2461 - lr: 0.0010\n",
      "Epoch 2/30\n",
      "358/358 [==============================] - 22s 62ms/step - loss: 0.7368 - accuracy: 0.2245 - val_loss: 0.5067 - val_accuracy: 0.2461 - lr: 0.0010\n",
      "Epoch 3/30\n",
      "358/358 [==============================] - 22s 61ms/step - loss: 0.4248 - accuracy: 0.2447 - val_loss: 0.3842 - val_accuracy: 0.2461 - lr: 0.0010\n",
      "Epoch 4/30\n",
      "358/358 [==============================] - 21s 59ms/step - loss: 0.3681 - accuracy: 0.2500 - val_loss: 0.4714 - val_accuracy: 0.1747 - lr: 0.0010\n",
      "Epoch 5/30\n",
      "358/358 [==============================] - 22s 61ms/step - loss: 0.3603 - accuracy: 0.2488 - val_loss: 0.3688 - val_accuracy: 0.2468 - lr: 0.0010\n",
      "Epoch 6/30\n",
      "358/358 [==============================] - 22s 60ms/step - loss: 0.3601 - accuracy: 0.2482 - val_loss: 0.3556 - val_accuracy: 0.2461 - lr: 0.0010\n",
      "Epoch 7/30\n",
      "358/358 [==============================] - 22s 62ms/step - loss: 0.3700 - accuracy: 0.2496 - val_loss: 0.3750 - val_accuracy: 0.2474 - lr: 0.0010\n",
      "Epoch 8/30\n",
      "358/358 [==============================] - 22s 62ms/step - loss: 0.3781 - accuracy: 0.2468 - val_loss: 0.3683 - val_accuracy: 0.2461 - lr: 0.0010\n",
      "Epoch 9/30\n",
      "358/358 [==============================] - 23s 65ms/step - loss: 0.3756 - accuracy: 0.2482 - val_loss: 0.4627 - val_accuracy: 0.2461 - lr: 0.0010\n",
      "Epoch 10/30\n",
      "358/358 [==============================] - 23s 65ms/step - loss: 0.3859 - accuracy: 0.2471 - val_loss: 0.3542 - val_accuracy: 0.2461 - lr: 0.0010\n",
      "Epoch 11/30\n",
      "358/358 [==============================] - 22s 62ms/step - loss: 0.3786 - accuracy: 0.2466 - val_loss: 0.3854 - val_accuracy: 0.2461 - lr: 0.0010\n",
      "Epoch 12/30\n",
      "358/358 [==============================] - 22s 62ms/step - loss: 0.4020 - accuracy: 0.2497 - val_loss: 0.4016 - val_accuracy: 0.2461 - lr: 0.0010\n",
      "Epoch 13/30\n",
      "358/358 [==============================] - ETA: 0s - loss: 0.3982 - accuracy: 0.2497"
     ]
    }
   ],
   "source": [
    "run_model(tuner, train_data, val_data, epochs=EPOCHS, batch_size=BATCH_SIZE)"
   ]
  },
  {
   "cell_type": "code",
   "execution_count": null,
   "id": "4b7360f0",
   "metadata": {},
   "outputs": [
    {
     "data": {
      "image/png": "[encoded data removed]",
      "text/plain": [
       "<IPython.core.display.Image object>"
      ]
     },
     "execution_count": 18,
     "metadata": {},
     "output_type": "execute_result"
    }
   ],
   "source": [
    "# from keras.utils import plot_model\n",
    "# import IPython.display\n",
    "\n",
    "\n",
    "# # Plot and save the model graph\n",
    "# plot_model(model, show_shapes=True, to_file='model_graph.png', rankdir='LR')\n",
    "# IPython.display.Image('model_graph.png')"
   ]
  },
  {
   "cell_type": "code",
   "execution_count": null,
   "id": "6f9ac16f",
   "metadata": {},
   "outputs": [
    {
     "data": {
      "text/plain": [
       "<Axes: >"
      ]
     },
     "execution_count": 19,
     "metadata": {},
     "output_type": "execute_result"
    },
    {
     "data": {
      "image/png": "[encoded data removed]",
      "text/plain": [
       "<Figure size 800x500 with 1 Axes>"
      ]
     },
     "metadata": {},
     "output_type": "display_data"
    }
   ],
   "source": [
    "pd.DataFrame(history.history).plot(figsize=(8,5))"
   ]
  },
  {
   "cell_type": "code",
   "execution_count": null,
   "id": "2ccdb90f-53fe-4fef-8fb0-7824603ea7ac",
   "metadata": {},
   "outputs": [],
   "source": [
    "import cv2\n",
    "from keras.models import load_model\n",
    "import numpy as np\n",
    "\n",
    "int2emotions = {0:'angry',1:'fear',2:'happy',3:'neutral',4:'sad',5:'surprise',6:'disgust'}\n",
    "model = load_model(f'{files_path}\\model\\\\6_class_emotion_detector_V2.h5')\n",
    "\n",
    "classifier = cv2.CascadeClassifier(f'{files_path}\\Haarcascades\\\\haarcascade_frontalface_default.xml')\n",
    "\n",
    "def detect_face(frame):\n",
    "    faces=classifier.detectMultiScale(frame,1.3,4)\n",
    "    if len(faces) == 0:\n",
    "        return frame\n",
    "    for x,y,w,h in faces:\n",
    "        cv2.rectangle(frame,(x,y),(x+w,y+h),(172,42,251),2)\n",
    "        face = frame[y:y+h,x:x+w]\n",
    "        face = cv2.cvtColor(face,cv2.COLOR_BGR2GRAY)\n",
    "        face = cv2.resize(face,(48,48))\n",
    "        face = face.reshape(1,48,48,1)\n",
    "        cv2.putText(frame,text=int2emotions[np.argmax(model.predict(face))],\n",
    "                    org=(x,y-15),fontFace=cv2.FONT_HERSHEY_SIMPLEX,fontScale=1,color=(106,40,243),thickness=2)\n",
    "    return frame"
   ]
  },
  {
   "cell_type": "code",
   "execution_count": null,
   "id": "3a6330dc",
   "metadata": {},
   "outputs": [],
   "source": [
    "cap = cv2.VideoCapture(0)\n",
    "\n",
    "while 1:\n",
    "    ret,frame= cap.read()\n",
    "    if ret==True:\n",
    "        cv2.imshow('emotion_detector',detect_face(frame))\n",
    "        if cv2.waitKey(1)==27:\n",
    "            break\n",
    "cap.release()\n",
    "cv2.destroyAllWindows()"
   ]
  },
  {
   "cell_type": "code",
   "execution_count": null,
   "id": "0ca19945-bb91-4a32-9a7a-f01f807a9743",
   "metadata": {},
   "outputs": [],
   "source": []
  }
 ],
 "metadata": {
  "kernelspec": {
   "display_name": "Python 3 (ipykernel)",
   "language": "python",
   "name": "python3"
  },
  "language_info": {
   "codemirror_mode": {
    "name": "ipython",
    "version": 3
   },
   "file_extension": ".py",
   "mimetype": "text/x-python",
   "name": "python",
   "nbconvert_exporter": "python",
   "pygments_lexer": "ipython3",
   "version": "3.10.13"
  }
 },
 "nbformat": 4,
 "nbformat_minor": 5
}
